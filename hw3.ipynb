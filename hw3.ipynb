{
  "nbformat": 4,
  "nbformat_minor": 0,
  "metadata": {
    "colab": {
      "provenance": [],
      "authorship_tag": "ABX9TyN7JloaAAcbdK582UU2W6Vi",
      "include_colab_link": true
    },
    "kernelspec": {
      "name": "python3",
      "display_name": "Python 3"
    },
    "language_info": {
      "name": "python"
    }
  },
  "cells": [
    {
      "cell_type": "markdown",
      "metadata": {
        "id": "view-in-github",
        "colab_type": "text"
      },
      "source": [
        "<a href=\"https://colab.research.google.com/github/lizayanchuk/goit-algo-hw-03/blob/main/hw3.ipynb\" target=\"_parent\"><img src=\"https://colab.research.google.com/assets/colab-badge.svg\" alt=\"Open In Colab\"/></a>"
      ]
    },
    {
      "cell_type": "code",
      "execution_count": null,
      "metadata": {
        "colab": {
          "base_uri": "https://localhost:8080/"
        },
        "id": "Z_H2LqZiMBHv",
        "outputId": "0839242c-de7b-4cc8-9352-96c74f6747e3"
      },
      "outputs": [
        {
          "output_type": "stream",
          "name": "stdout",
          "text": [
            "Введіть дату у форматі РРРР-ММ-ДД: 2020\\06\\06\n",
            "Неправильний формат! Спробуйте ще раз.\n",
            "Введіть дату у форматі РРРР-ММ-ДД: 2022\\06\\34\n",
            "Неправильний формат! Спробуйте ще раз.\n",
            "Введіть дату у форматі РРРР-ММ-ДД: 2025/08/01\n",
            "Неправильний формат! Спробуйте ще раз.\n",
            "Введіть дату у форматі РРРР-ММ-ДД: 2025-08-01\n",
            "Різниця у днях: 9\n"
          ]
        }
      ],
      "source": [
        "# Завдання 1\n",
        "from datetime import datetime\n",
        "\n",
        "def get_days_from_today(date):\n",
        "    date_dt = datetime.strptime(date, \"%Y-%m-%d\")\n",
        "    today_date = datetime.today()\n",
        "    diff_days = today_date - date_dt\n",
        "    return diff_days.days\n",
        "\n",
        "while True:\n",
        "  date_input = input(\"Введіть дату у форматі РРРР-ММ-ДД: \")\n",
        "  try:\n",
        "      days = get_days_from_today(date_input)\n",
        "      print(f\"Різниця у днях: {days}\")\n",
        "      break\n",
        "  except ValueError:\n",
        "      print(\"Неправильний формат! Спробуйте ще раз.\")"
      ]
    },
    {
      "cell_type": "code",
      "source": [
        "# Завдання 2\n",
        "import random\n",
        "\n",
        "def get_numbers_ticket(min, max, quantity):\n",
        "  nums = random.sample(range(min, max+1), quantity)\n",
        "  if min >= max:\n",
        "      return []\n",
        "  if quantity > (max - min+1):\n",
        "      return []\n",
        "  if min < 1 or max < 1:\n",
        "      return []\n",
        "  return sorted(nums)\n",
        "\n",
        "while True:\n",
        "  try:\n",
        "    min = int(input(\"Введіть мінімальне число: \"))\n",
        "    max = int(input(\"Введіть максимальне число: \"))\n",
        "    quantity = int(input(\"Введіть кількість: \"))\n",
        "\n",
        "    lottery = get_numbers_ticket(min, max, quantity)\n",
        "\n",
        "    if not lottery:\n",
        "      print(\"Параметри введено не правильно. Спробуйте ще раз!\")\n",
        "      continue\n",
        "\n",
        "    print(\"Ваші числа: \", lottery)\n",
        "    break\n",
        "\n",
        "  except Exception as e:\n",
        "    print(f\"Виникла помилка: {e}. Спробуйте ще раз!\")"
      ],
      "metadata": {
        "colab": {
          "base_uri": "https://localhost:8080/"
        },
        "id": "3glMnvTVRc40",
        "outputId": "37f7563c-4f00-4a40-cf4e-61d111176640"
      },
      "execution_count": 4,
      "outputs": [
        {
          "output_type": "stream",
          "name": "stdout",
          "text": [
            "Введіть мінімальне число: 4\n",
            "Введіть максимальне число: 3\n",
            "Введіть кількість: 2\n",
            "Виникла помилка: Sample larger than population or is negative. Спробуйте ще раз!\n",
            "Введіть мінімальне число: 2\n",
            "Введіть максимальне число: 7\n",
            "Введіть кількість: 3\n",
            "Ваші числа:  [3, 5, 6]\n"
          ]
        }
      ]
    },
    {
      "cell_type": "code",
      "source": [
        "# Завдання 3\n",
        "import re\n",
        "\n",
        "phone_numbers = [\n",
        "    \"    +38(050)123-32-34\",\n",
        "    \"     0503451234\",\n",
        "    \"(050)8889900\",\n",
        "    \"38050-111-22-22\",\n",
        "    \"38050 111 22 11 asf  \"\n",
        "]\n",
        "\n",
        "def normalize_phone(phone_number):\n",
        "  phone_list = []\n",
        "  for phone in phone_number:\n",
        "    cleaned_num = re.sub(r'\\D', '', phone)\n",
        "    if cleaned_num.startswith('380'):\n",
        "      cleaned_num = '+' + cleaned_num\n",
        "    else:\n",
        "      cleaned_num = '+38' + cleaned_num\n",
        "    phone_list.append(cleaned_num)\n",
        "  return phone_list\n",
        "\n",
        "phones = normalize_phone(phone_numbers)\n",
        "print(\"Нормалізовані номери телефонів для SMS-розсилки: \", phones)"
      ],
      "metadata": {
        "colab": {
          "base_uri": "https://localhost:8080/"
        },
        "id": "PGwmCskTD2_u",
        "outputId": "61e92cd5-b957-4efa-d63e-39e25be5d395"
      },
      "execution_count": 23,
      "outputs": [
        {
          "output_type": "stream",
          "name": "stdout",
          "text": [
            "Нормалізовані номери телефонів для SMS-розсилки:  ['+380501233234', '+380503451234', '+380508889900', '+380501112222', '+380501112211']\n"
          ]
        }
      ]
    }
  ]
}